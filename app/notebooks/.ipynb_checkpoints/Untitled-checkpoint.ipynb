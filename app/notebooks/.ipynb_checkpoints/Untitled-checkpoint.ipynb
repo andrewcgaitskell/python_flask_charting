{
 "cells": [
  {
   "cell_type": "code",
   "execution_count": 1,
   "id": "e391f4dc-7080-40aa-b3d9-8dfa707ea862",
   "metadata": {},
   "outputs": [],
   "source": [
    "from brown_edu_dmtools.dmtools_client_package.dmtools_client_module import DMToolsClient"
   ]
  },
  {
   "cell_type": "code",
   "execution_count": 2,
   "id": "33276cad-ef56-4e94-84ec-9d8198efb419",
   "metadata": {},
   "outputs": [],
   "source": [
    "## get api key and user id from local .env file\n",
    "from dotenv import load_dotenv\n",
    "import os\n",
    "from os import environ, path\n",
    "#BASE_DIR = path.abspath(path.dirname(__file__))\n",
    "BASE_DIR = os.getcwd()\n",
    "load_dotenv(path.join(BASE_DIR, \".env\"))\n",
    "MY_DMTOOLS_APIKEY = environ.get(\"MY_DMTOOLS_APIKEY\")\n",
    "MY_DMTOOLS_USERID = environ.get(\"MY_DMTOOLS_USERID\")\n",
    "Client = DMToolsClient(MY_DMTOOLS_USERID, MY_DMTOOLS_APIKEY)"
   ]
  },
  {
   "cell_type": "code",
   "execution_count": 5,
   "id": "440c821e-cf58-44cb-bd24-543c240b1071",
   "metadata": {},
   "outputs": [],
   "source": [
    "r = Client.read(subject='graph')"
   ]
  },
  {
   "cell_type": "code",
   "execution_count": 8,
   "id": "beb6cb72-7a6e-43d6-b335-c2c3b0e1d3b5",
   "metadata": {},
   "outputs": [],
   "source": [
    "new_graph = {'parent_id': -1,\n",
    "  'open': 0,\n",
    "  'value': 'experiment',\n",
    "  'created_at': '2024-08-27T15:27:27',\n",
    "  'archived_at': '1980-01-01T00:00:00',\n",
    "  'key': 'experiment',\n",
    "  'subject': 'graph',\n",
    "  'value_datatype': 'text',\n",
    "  'updated_at': '2024-08-27T15:27:27'}"
   ]
  },
  {
   "cell_type": "code",
   "execution_count": 9,
   "id": "8c5ad03a-b603-472b-8c13-df9c250f0516",
   "metadata": {},
   "outputs": [
    {
     "ename": "TypeError",
     "evalue": "the JSON object must be str, bytes or bytearray, not dict",
     "output_type": "error",
     "traceback": [
      "\u001b[0;31m---------------------------------------------------------------------------\u001b[0m",
      "\u001b[0;31mTypeError\u001b[0m                                 Traceback (most recent call last)",
      "Cell \u001b[0;32mIn[9], line 1\u001b[0m\n\u001b[0;32m----> 1\u001b[0m r \u001b[38;5;241m=\u001b[39m \u001b[43mClient\u001b[49m\u001b[38;5;241;43m.\u001b[39;49m\u001b[43mupdate\u001b[49m\u001b[43m(\u001b[49m\u001b[43msubject\u001b[49m\u001b[38;5;241;43m=\u001b[39;49m\u001b[38;5;124;43m'\u001b[39;49m\u001b[38;5;124;43mgraph\u001b[39;49m\u001b[38;5;124;43m'\u001b[39;49m\u001b[43m,\u001b[49m\u001b[43mdata\u001b[49m\u001b[38;5;241;43m=\u001b[39;49m\u001b[43mnew_graph\u001b[49m\u001b[43m)\u001b[49m\n",
      "File \u001b[0;32m~/Code/python_flask_charting/env/lib64/python3.12/site-packages/brown_edu_dmtools/dmtools_client_package/dmtools_client_module.py:131\u001b[0m, in \u001b[0;36mDMToolsClient.update\u001b[0;34m(self, subject, id, data, url, output)\u001b[0m\n\u001b[1;32m    129\u001b[0m \u001b[38;5;28;01mdef\u001b[39;00m \u001b[38;5;21mupdate\u001b[39m(\u001b[38;5;28mself\u001b[39m,subject\u001b[38;5;241m=\u001b[39m\u001b[38;5;124m'\u001b[39m\u001b[38;5;124mdata\u001b[39m\u001b[38;5;124m'\u001b[39m,\u001b[38;5;28mid\u001b[39m\u001b[38;5;241m=\u001b[39m\u001b[38;5;241m-\u001b[39m\u001b[38;5;241m1\u001b[39m,data\u001b[38;5;241m=\u001b[39m{},url\u001b[38;5;241m=\u001b[39m\u001b[38;5;124m'\u001b[39m\u001b[38;5;124m'\u001b[39m,output\u001b[38;5;241m=\u001b[39m\u001b[38;5;124m'\u001b[39m\u001b[38;5;124mjson\u001b[39m\u001b[38;5;124m'\u001b[39m):\n\u001b[1;32m    130\u001b[0m     \u001b[38;5;28;01mif\u001b[39;00m url \u001b[38;5;241m==\u001b[39m \u001b[38;5;124m'\u001b[39m\u001b[38;5;124m'\u001b[39m:\n\u001b[0;32m--> 131\u001b[0m         data_as_json \u001b[38;5;241m=\u001b[39m \u001b[43mjson\u001b[49m\u001b[38;5;241;43m.\u001b[39;49m\u001b[43mloads\u001b[49m\u001b[43m(\u001b[49m\u001b[43mdata\u001b[49m\u001b[43m)\u001b[49m\n\u001b[1;32m    132\u001b[0m         subject_check \u001b[38;5;241m=\u001b[39m data_as_json[\u001b[38;5;124m'\u001b[39m\u001b[38;5;124msubject\u001b[39m\u001b[38;5;124m'\u001b[39m]\n\u001b[1;32m    133\u001b[0m         \u001b[38;5;28;01mif\u001b[39;00m subject \u001b[38;5;241m!=\u001b[39m subject_check:\n",
      "File \u001b[0;32m/usr/lib64/python3.12/json/__init__.py:339\u001b[0m, in \u001b[0;36mloads\u001b[0;34m(s, cls, object_hook, parse_float, parse_int, parse_constant, object_pairs_hook, **kw)\u001b[0m\n\u001b[1;32m    337\u001b[0m \u001b[38;5;28;01melse\u001b[39;00m:\n\u001b[1;32m    338\u001b[0m     \u001b[38;5;28;01mif\u001b[39;00m \u001b[38;5;129;01mnot\u001b[39;00m \u001b[38;5;28misinstance\u001b[39m(s, (\u001b[38;5;28mbytes\u001b[39m, \u001b[38;5;28mbytearray\u001b[39m)):\n\u001b[0;32m--> 339\u001b[0m         \u001b[38;5;28;01mraise\u001b[39;00m \u001b[38;5;167;01mTypeError\u001b[39;00m(\u001b[38;5;124mf\u001b[39m\u001b[38;5;124m'\u001b[39m\u001b[38;5;124mthe JSON object must be str, bytes or bytearray, \u001b[39m\u001b[38;5;124m'\u001b[39m\n\u001b[1;32m    340\u001b[0m                         \u001b[38;5;124mf\u001b[39m\u001b[38;5;124m'\u001b[39m\u001b[38;5;124mnot \u001b[39m\u001b[38;5;132;01m{\u001b[39;00ms\u001b[38;5;241m.\u001b[39m\u001b[38;5;18m__class__\u001b[39m\u001b[38;5;241m.\u001b[39m\u001b[38;5;18m__name__\u001b[39m\u001b[38;5;132;01m}\u001b[39;00m\u001b[38;5;124m'\u001b[39m)\n\u001b[1;32m    341\u001b[0m     s \u001b[38;5;241m=\u001b[39m s\u001b[38;5;241m.\u001b[39mdecode(detect_encoding(s), \u001b[38;5;124m'\u001b[39m\u001b[38;5;124msurrogatepass\u001b[39m\u001b[38;5;124m'\u001b[39m)\n\u001b[1;32m    343\u001b[0m \u001b[38;5;28;01mif\u001b[39;00m (\u001b[38;5;28mcls\u001b[39m \u001b[38;5;129;01mis\u001b[39;00m \u001b[38;5;28;01mNone\u001b[39;00m \u001b[38;5;129;01mand\u001b[39;00m object_hook \u001b[38;5;129;01mis\u001b[39;00m \u001b[38;5;28;01mNone\u001b[39;00m \u001b[38;5;129;01mand\u001b[39;00m\n\u001b[1;32m    344\u001b[0m         parse_int \u001b[38;5;129;01mis\u001b[39;00m \u001b[38;5;28;01mNone\u001b[39;00m \u001b[38;5;129;01mand\u001b[39;00m parse_float \u001b[38;5;129;01mis\u001b[39;00m \u001b[38;5;28;01mNone\u001b[39;00m \u001b[38;5;129;01mand\u001b[39;00m\n\u001b[1;32m    345\u001b[0m         parse_constant \u001b[38;5;129;01mis\u001b[39;00m \u001b[38;5;28;01mNone\u001b[39;00m \u001b[38;5;129;01mand\u001b[39;00m object_pairs_hook \u001b[38;5;129;01mis\u001b[39;00m \u001b[38;5;28;01mNone\u001b[39;00m \u001b[38;5;129;01mand\u001b[39;00m \u001b[38;5;129;01mnot\u001b[39;00m kw):\n",
      "\u001b[0;31mTypeError\u001b[0m: the JSON object must be str, bytes or bytearray, not dict"
     ]
    }
   ],
   "source": [
    "r = Client.update(subject='graph',data=new_graph)"
   ]
  },
  {
   "cell_type": "code",
   "execution_count": null,
   "id": "4ba41121-3f13-43a9-88d7-3c47ec11ab8b",
   "metadata": {},
   "outputs": [],
   "source": []
  }
 ],
 "metadata": {
  "kernelspec": {
   "display_name": "Python 3 (ipykernel)",
   "language": "python",
   "name": "python3"
  },
  "language_info": {
   "codemirror_mode": {
    "name": "ipython",
    "version": 3
   },
   "file_extension": ".py",
   "mimetype": "text/x-python",
   "name": "python",
   "nbconvert_exporter": "python",
   "pygments_lexer": "ipython3",
   "version": "3.12.4"
  }
 },
 "nbformat": 4,
 "nbformat_minor": 5
}
