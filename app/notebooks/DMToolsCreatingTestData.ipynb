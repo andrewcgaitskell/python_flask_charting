{
 "cells": [
  {
   "cell_type": "markdown",
   "metadata": {
    "id": "RuDCY1jQt-tm"
   },
   "source": [
    "## Import Libaries"
   ]
  },
  {
   "cell_type": "code",
   "execution_count": 1,
   "metadata": {
    "id": "2ka0-qTHs-RP"
   },
   "outputs": [],
   "source": [
    "from io import StringIO\n",
    "import pandas as pd\n",
    "import json"
   ]
  },
  {
   "cell_type": "code",
   "execution_count": 2,
   "metadata": {},
   "outputs": [],
   "source": [
    "import plotly"
   ]
  },
  {
   "cell_type": "code",
   "execution_count": 3,
   "metadata": {
    "colab": {
     "base_uri": "https://localhost:8080/"
    },
    "id": "aa_fIpIt9TSH",
    "outputId": "bda69b2c-a379-486b-ce23-cac6553b7814"
   },
   "outputs": [
    {
     "name": "stdout",
     "output_type": "stream",
     "text": [
      "Requirement already satisfied: certifi in /home/andrew1tb/.local/share/virtualenvs/brown_edu_dmtools-Ao04gLR0/lib/python3.12/site-packages (2024.7.4)\n"
     ]
    }
   ],
   "source": [
    "!pip install --upgrade certifi"
   ]
  },
  {
   "cell_type": "code",
   "execution_count": 4,
   "metadata": {
    "id": "o9eTA18A9gSs"
   },
   "outputs": [],
   "source": [
    "dmtool_userid = '1'\n",
    "dmtool_apikey = '20CA2CF4_3DE3_11EF_98A4_D60CFA69E605'"
   ]
  },
  {
   "cell_type": "code",
   "execution_count": 5,
   "metadata": {
    "id": "TsZX9PfSmYh9"
   },
   "outputs": [],
   "source": [
    "from dmtools_api_package.dmtools_api_module import APIServer"
   ]
  },
  {
   "cell_type": "code",
   "execution_count": 6,
   "metadata": {},
   "outputs": [],
   "source": [
    "MyAPIServer = APIServer(dmtool_userid,dmtool_apikey)"
   ]
  },
  {
   "cell_type": "code",
   "execution_count": 7,
   "metadata": {},
   "outputs": [],
   "source": [
    "from dmtools_api_package.dmtools_api_module import DataExamples"
   ]
  },
  {
   "cell_type": "code",
   "execution_count": 8,
   "metadata": {},
   "outputs": [],
   "source": [
    "from dmtools_api_package.dmtools_api_module import Data_about_example\n",
    "dae = Data_about_example()\n",
    "#dae.json\n",
    "response = MyAPIServer.create_and_return_a_data('', dae.json)"
   ]
  },
  {
   "cell_type": "code",
   "execution_count": 32,
   "metadata": {},
   "outputs": [
    {
     "data": {
      "text/plain": [
       "dict"
      ]
     },
     "execution_count": 32,
     "metadata": {},
     "output_type": "execute_result"
    }
   ],
   "source": [
    "type(response)"
   ]
  },
  {
   "cell_type": "code",
   "execution_count": 10,
   "metadata": {},
   "outputs": [],
   "source": [
    "de = DataExamples()"
   ]
  },
  {
   "cell_type": "code",
   "execution_count": 11,
   "metadata": {},
   "outputs": [],
   "source": [
    "de.MakeDMTool(1000,1)"
   ]
  },
  {
   "cell_type": "code",
   "execution_count": 12,
   "metadata": {},
   "outputs": [
    {
     "data": {
      "text/html": [
       "<div>\n",
       "<style scoped>\n",
       "    .dataframe tbody tr th:only-of-type {\n",
       "        vertical-align: middle;\n",
       "    }\n",
       "\n",
       "    .dataframe tbody tr th {\n",
       "        vertical-align: top;\n",
       "    }\n",
       "\n",
       "    .dataframe thead th {\n",
       "        text-align: right;\n",
       "    }\n",
       "</style>\n",
       "<table border=\"1\" class=\"dataframe\">\n",
       "  <thead>\n",
       "    <tr style=\"text-align: right;\">\n",
       "      <th></th>\n",
       "      <th>x</th>\n",
       "      <th>y</th>\n",
       "      <th>data_id</th>\n",
       "      <th>trace_id</th>\n",
       "      <th>trace_name</th>\n",
       "      <th>row_id</th>\n",
       "    </tr>\n",
       "  </thead>\n",
       "  <tbody>\n",
       "    <tr>\n",
       "      <th>0</th>\n",
       "      <td>30</td>\n",
       "      <td>0</td>\n",
       "      <td>1000</td>\n",
       "      <td>1</td>\n",
       "      <td>d</td>\n",
       "      <td>0</td>\n",
       "    </tr>\n",
       "    <tr>\n",
       "      <th>1</th>\n",
       "      <td>65</td>\n",
       "      <td>5</td>\n",
       "      <td>1000</td>\n",
       "      <td>1</td>\n",
       "      <td>d</td>\n",
       "      <td>1</td>\n",
       "    </tr>\n",
       "    <tr>\n",
       "      <th>2</th>\n",
       "      <td>90</td>\n",
       "      <td>25</td>\n",
       "      <td>1000</td>\n",
       "      <td>1</td>\n",
       "      <td>d</td>\n",
       "      <td>2</td>\n",
       "    </tr>\n",
       "    <tr>\n",
       "      <th>3</th>\n",
       "      <td>100</td>\n",
       "      <td>50</td>\n",
       "      <td>1000</td>\n",
       "      <td>1</td>\n",
       "      <td>d</td>\n",
       "      <td>3</td>\n",
       "    </tr>\n",
       "    <tr>\n",
       "      <th>4</th>\n",
       "      <td>90</td>\n",
       "      <td>75</td>\n",
       "      <td>1000</td>\n",
       "      <td>1</td>\n",
       "      <td>d</td>\n",
       "      <td>4</td>\n",
       "    </tr>\n",
       "  </tbody>\n",
       "</table>\n",
       "</div>"
      ],
      "text/plain": [
       "     x   y  data_id  trace_id trace_name  row_id\n",
       "0   30   0     1000         1          d       0\n",
       "1   65   5     1000         1          d       1\n",
       "2   90  25     1000         1          d       2\n",
       "3  100  50     1000         1          d       3\n",
       "4   90  75     1000         1          d       4"
      ]
     },
     "execution_count": 12,
     "metadata": {},
     "output_type": "execute_result"
    }
   ],
   "source": [
    "de.dmtdf.head(5)"
   ]
  },
  {
   "cell_type": "code",
   "execution_count": 13,
   "metadata": {
    "id": "gex-kF3z1mk9"
   },
   "outputs": [],
   "source": [
    "import plotly.graph_objects as go\n",
    "#fig = go.Figure( go.Scatter(x=[1,2,3], y=[1,3,2] ) )\n",
    "#fig.show()"
   ]
  },
  {
   "cell_type": "markdown",
   "metadata": {
    "id": "muSS9-iRtyuy"
   },
   "source": [
    "## XY For Test Data"
   ]
  },
  {
   "cell_type": "code",
   "execution_count": 33,
   "metadata": {
    "id": "fLTgcVy43NfX"
   },
   "outputs": [
    {
     "data": {
      "text/html": [
       "<div>\n",
       "<style scoped>\n",
       "    .dataframe tbody tr th:only-of-type {\n",
       "        vertical-align: middle;\n",
       "    }\n",
       "\n",
       "    .dataframe tbody tr th {\n",
       "        vertical-align: top;\n",
       "    }\n",
       "\n",
       "    .dataframe thead th {\n",
       "        text-align: right;\n",
       "    }\n",
       "</style>\n",
       "<table border=\"1\" class=\"dataframe\">\n",
       "  <thead>\n",
       "    <tr style=\"text-align: right;\">\n",
       "      <th></th>\n",
       "      <th>x</th>\n",
       "      <th>y</th>\n",
       "      <th>data_id</th>\n",
       "      <th>trace_id</th>\n",
       "      <th>trace_name</th>\n",
       "      <th>row_id</th>\n",
       "    </tr>\n",
       "  </thead>\n",
       "  <tbody>\n",
       "    <tr>\n",
       "      <th>0</th>\n",
       "      <td>30</td>\n",
       "      <td>0.000000e+00</td>\n",
       "      <td>1000</td>\n",
       "      <td>1</td>\n",
       "      <td>d</td>\n",
       "      <td>0</td>\n",
       "    </tr>\n",
       "    <tr>\n",
       "      <th>1</th>\n",
       "      <td>65</td>\n",
       "      <td>5.617284e-45</td>\n",
       "      <td>1000</td>\n",
       "      <td>1</td>\n",
       "      <td>d</td>\n",
       "      <td>1</td>\n",
       "    </tr>\n",
       "    <tr>\n",
       "      <th>2</th>\n",
       "      <td>90</td>\n",
       "      <td>2.808642e-44</td>\n",
       "      <td>1000</td>\n",
       "      <td>1</td>\n",
       "      <td>d</td>\n",
       "      <td>2</td>\n",
       "    </tr>\n",
       "    <tr>\n",
       "      <th>3</th>\n",
       "      <td>100</td>\n",
       "      <td>5.617284e-44</td>\n",
       "      <td>1000</td>\n",
       "      <td>1</td>\n",
       "      <td>d</td>\n",
       "      <td>3</td>\n",
       "    </tr>\n",
       "    <tr>\n",
       "      <th>4</th>\n",
       "      <td>90</td>\n",
       "      <td>8.425926e-44</td>\n",
       "      <td>1000</td>\n",
       "      <td>1</td>\n",
       "      <td>d</td>\n",
       "      <td>4</td>\n",
       "    </tr>\n",
       "  </tbody>\n",
       "</table>\n",
       "</div>"
      ],
      "text/plain": [
       "     x             y  data_id  trace_id trace_name  row_id\n",
       "0   30  0.000000e+00     1000         1          d       0\n",
       "1   65  5.617284e-45     1000         1          d       1\n",
       "2   90  2.808642e-44     1000         1          d       2\n",
       "3  100  5.617284e-44     1000         1          d       3\n",
       "4   90  8.425926e-44     1000         1          d       4"
      ]
     },
     "execution_count": 33,
     "metadata": {},
     "output_type": "execute_result"
    }
   ],
   "source": [
    "all_letters = de.dmtdf.copy()\n",
    "#all_letters = all_letters[['data_label', 'trace_name','data_id', 'row_id','trace_id','x', 'y']]\n",
    "all_letters['y'] = all_letters['y'] * 1.123456789012e-45\n",
    "all_letters.head(5)"
   ]
  },
  {
   "cell_type": "code",
   "execution_count": 15,
   "metadata": {
    "id": "TAPcFdPxtbnd"
   },
   "outputs": [
    {
     "data": {
      "text/plain": [
       "array([1000])"
      ]
     },
     "execution_count": 15,
     "metadata": {},
     "output_type": "execute_result"
    }
   ],
   "source": [
    "all_letters['data_id'].unique()"
   ]
  },
  {
   "cell_type": "code",
   "execution_count": 16,
   "metadata": {
    "id": "okBjdpm5GLw3"
   },
   "outputs": [
    {
     "name": "stderr",
     "output_type": "stream",
     "text": [
      "/tmp/ipykernel_9924/3463747819.py:21: DeprecationWarning: DataFrameGroupBy.apply operated on the grouping columns. This behavior is deprecated, and in a future version of pandas the grouping columns will be excluded from the operation. Either pass `include_groups=False` to exclude the groupings or explicitly select the grouping columns after groupby to silence this warning.\n",
      "  .apply(lambda s: s.apply(lambda row: {'trace_id': row['trace_id'],'row_id': row['row_id'], 'x': row['x'], 'y': row['y']}, axis=1).tolist())\n"
     ]
    },
    {
     "data": {
      "text/plain": [
       "'[{\"data_id\":1000,\"data_values\":[{\"trace_id\":1,\"row_id\":0,\"x\":30,\"y\":0.0},{\"trace_id\":1,\"row_id\":1,\"x\":65,\"y\":5.617283945e-45},{\"trace_id\":1,\"row_id\":2,\"x\":90,\"y\":2.808641973e-44},{\"trace_id\":1,\"row_id\":3,\"x\":100,\"y\":5.617283945e-44},{\"trace_id\":1,\"row_id\":4,\"x\":90,\"y\":8.425925918e-44},{\"trace_id\":1,\"row_id\":5,\"x\":65,\"y\":1.06728395e-43},{\"trace_id\":1,\"row_id\":6,\"x\":30,\"y\":1.123456789e-43},{\"trace_id\":1,\"row_id\":7,\"x\":60,\"y\":9.549382707e-44},{\"trace_id\":1,\"row_id\":8,\"x\":75,\"y\":8.425925918e-44},{\"trace_id\":1,\"row_id\":9,\"x\":80,\"y\":5.617283945e-44},{\"trace_id\":1,\"row_id\":10,\"x\":75,\"y\":3.932098762e-44},{\"trace_id\":1,\"row_id\":11,\"x\":60,\"y\":1.685185184e-44},{\"trace_id\":1,\"row_id\":12,\"x\":30,\"y\":0.0},{\"trace_id\":1,\"row_id\":13,\"x\":10,\"y\":0.0},{\"trace_id\":1,\"row_id\":14,\"x\":10,\"y\":1.123456789e-43},{\"trace_id\":1,\"row_id\":15,\"x\":30,\"y\":1.123456789e-43},{\"trace_id\":1,\"row_id\":16,\"x\":30,\"y\":0.0},{\"trace_id\":2,\"row_id\":17,\"x\":170,\"y\":5.617283945e-44},{\"trace_id\":2,\"row_id\":18,\"x\":190,\"y\":1.123456789e-43},{\"trace_id\":2,\"row_id\":19,\"x\":190,\"y\":0.0},{\"trace_id\":2,\"row_id\":20,\"x\":170,\"y\":0.0},{\"trace_id\":2,\"row_id\":21,\"x\":170,\"y\":5.617283945e-44},{\"trace_id\":2,\"row_id\":22,\"x\":160,\"y\":2.808641973e-44},{\"trace_id\":2,\"row_id\":23,\"x\":150,\"y\":0.0},{\"trace_id\":2,\"row_id\":24,\"x\":130,\"y\":5.617283945e-44},{\"trace_id\":2,\"row_id\":25,\"x\":130,\"y\":0.0},{\"trace_id\":2,\"row_id\":26,\"x\":110,\"y\":0.0},{\"trace_id\":2,\"row_id\":27,\"x\":110,\"y\":1.123456789e-43},{\"trace_id\":2,\"row_id\":28,\"x\":130,\"y\":1.123456789e-43},{\"trace_id\":2,\"row_id\":29,\"x\":160,\"y\":2.808641973e-44},{\"trace_id\":3,\"row_id\":30,\"x\":210,\"y\":8.987654312e-44},{\"trace_id\":3,\"row_id\":31,\"x\":210,\"y\":1.123456789e-43},{\"trace_id\":3,\"row_id\":32,\"x\":290,\"y\":1.123456789e-43},{\"trace_id\":3,\"row_id\":33,\"x\":290,\"y\":8.987654312e-44},{\"trace_id\":3,\"row_id\":34,\"x\":260,\"y\":8.987654312e-44},{\"trace_id\":3,\"row_id\":35,\"x\":260,\"y\":0.0},{\"trace_id\":3,\"row_id\":36,\"x\":240,\"y\":0.0},{\"trace_id\":3,\"row_id\":37,\"x\":240,\"y\":8.987654312e-44},{\"trace_id\":3,\"row_id\":38,\"x\":210,\"y\":8.987654312e-44},{\"trace_id\":4,\"row_id\":39,\"x\":350,\"y\":0.0},{\"trace_id\":4,\"row_id\":40,\"x\":335,\"y\":5.617283945e-45},{\"trace_id\":4,\"row_id\":41,\"x\":320,\"y\":1.685185184e-44},{\"trace_id\":4,\"row_id\":42,\"x\":313,\"y\":3.370370367e-44},{\"trace_id\":4,\"row_id\":43,\"x\":310,\"y\":5.617283945e-44},{\"trace_id\":4,\"row_id\":44,\"x\":313,\"y\":7.864197523e-44},{\"trace_id\":4,\"row_id\":45,\"x\":320,\"y\":1.01111111e-43},{\"trace_id\":4,\"row_id\":46,\"x\":335,\"y\":1.089753085e-43},{\"trace_id\":4,\"row_id\":47,\"x\":350,\"y\":1.123456789e-43},{\"trace_id\":4,\"row_id\":48,\"x\":340,\"y\":9.549382707e-44},{\"trace_id\":4,\"row_id\":49,\"x\":335,\"y\":7.864197523e-44},{\"trace_id\":4,\"row_id\":50,\"x\":333,\"y\":7.302469129e-44},{\"trace_id\":4,\"row_id\":51,\"x\":330,\"y\":5.617283945e-44},{\"trace_id\":4,\"row_id\":52,\"x\":333,\"y\":3.932098762e-44},{\"trace_id\":4,\"row_id\":53,\"x\":335,\"y\":2.808641973e-44},{\"trace_id\":4,\"row_id\":54,\"x\":340,\"y\":1.348148147e-44},{\"trace_id\":4,\"row_id\":55,\"x\":350,\"y\":0.0},{\"trace_id\":4,\"row_id\":56,\"x\":350,\"y\":0.0},{\"trace_id\":4,\"row_id\":57,\"x\":365,\"y\":5.617283945e-45},{\"trace_id\":4,\"row_id\":58,\"x\":380,\"y\":1.685185184e-44},{\"trace_id\":4,\"row_id\":59,\"x\":387,\"y\":3.370370367e-44},{\"trace_id\":4,\"row_id\":60,\"x\":390,\"y\":5.617283945e-44},{\"trace_id\":4,\"row_id\":61,\"x\":387,\"y\":7.864197523e-44},{\"trace_id\":4,\"row_id\":62,\"x\":380,\"y\":1.01111111e-43},{\"trace_id\":4,\"row_id\":63,\"x\":365,\"y\":1.089753085e-43},{\"trace_id\":4,\"row_id\":64,\"x\":350,\"y\":1.123456789e-43},{\"trace_id\":4,\"row_id\":65,\"x\":360,\"y\":9.549382707e-44},{\"trace_id\":4,\"row_id\":66,\"x\":365,\"y\":7.864197523e-44},{\"trace_id\":4,\"row_id\":67,\"x\":367,\"y\":7.302469129e-44},{\"trace_id\":4,\"row_id\":68,\"x\":370,\"y\":5.617283945e-44},{\"trace_id\":4,\"row_id\":69,\"x\":367,\"y\":3.932098762e-44},{\"trace_id\":4,\"row_id\":70,\"x\":365,\"y\":2.808641973e-44},{\"trace_id\":4,\"row_id\":71,\"x\":360,\"y\":1.348148147e-44},{\"trace_id\":4,\"row_id\":72,\"x\":350,\"y\":0.0},{\"trace_id\":5,\"row_id\":73,\"x\":450,\"y\":0.0},{\"trace_id\":5,\"row_id\":74,\"x\":435,\"y\":5.617283945e-45},{\"trace_id\":5,\"row_id\":75,\"x\":420,\"y\":1.685185184e-44},{\"trace_id\":5,\"row_id\":76,\"x\":413,\"y\":3.370370367e-44},{\"trace_id\":5,\"row_id\":77,\"x\":410,\"y\":5.617283945e-44},{\"trace_id\":5,\"row_id\":78,\"x\":413,\"y\":7.864197523e-44},{\"trace_id\":5,\"row_id\":79,\"x\":420,\"y\":1.01111111e-43},{\"trace_id\":5,\"row_id\":80,\"x\":435,\"y\":1.089753085e-43},{\"trace_id\":5,\"row_id\":81,\"x\":450,\"y\":1.123456789e-43},{\"trace_id\":5,\"row_id\":82,\"x\":440,\"y\":9.549382707e-44},{\"trace_id\":5,\"row_id\":83,\"x\":435,\"y\":7.864197523e-44},{\"trace_id\":5,\"row_id\":84,\"x\":433,\"y\":7.302469129e-44},{\"trace_id\":5,\"row_id\":85,\"x\":430,\"y\":5.617283945e-44},{\"trace_id\":5,\"row_id\":86,\"x\":433,\"y\":3.932098762e-44},{\"trace_id\":5,\"row_id\":87,\"x\":435,\"y\":2.808641973e-44},{\"trace_id\":5,\"row_id\":88,\"x\":440,\"y\":1.348148147e-44},{\"trace_id\":5,\"row_id\":89,\"x\":450,\"y\":0.0},{\"trace_id\":5,\"row_id\":90,\"x\":450,\"y\":0.0},{\"trace_id\":5,\"row_id\":91,\"x\":465,\"y\":5.617283945e-45},{\"trace_id\":5,\"row_id\":92,\"x\":480,\"y\":1.685185184e-44},{\"trace_id\":5,\"row_id\":93,\"x\":487,\"y\":3.370370367e-44},{\"trace_id\":5,\"row_id\":94,\"x\":490,\"y\":5.617283945e-44},{\"trace_id\":5,\"row_id\":95,\"x\":487,\"y\":7.864197523e-44},{\"trace_id\":5,\"row_id\":96,\"x\":480,\"y\":1.01111111e-43},{\"trace_id\":5,\"row_id\":97,\"x\":465,\"y\":1.089753085e-43},{\"trace_id\":5,\"row_id\":98,\"x\":450,\"y\":1.123456789e-43},{\"trace_id\":5,\"row_id\":99,\"x\":460,\"y\":9.549382707e-44},{\"trace_id\":5,\"row_id\":100,\"x\":465,\"y\":7.864197523e-44},{\"trace_id\":5,\"row_id\":101,\"x\":467,\"y\":7.302469129e-44},{\"trace_id\":5,\"row_id\":102,\"x\":470,\"y\":5.617283945e-44},{\"trace_id\":5,\"row_id\":103,\"x\":467,\"y\":3.932098762e-44},{\"trace_id\":5,\"row_id\":104,\"x\":465,\"y\":2.808641973e-44},{\"trace_id\":5,\"row_id\":105,\"x\":460,\"y\":1.348148147e-44},{\"trace_id\":5,\"row_id\":106,\"x\":450,\"y\":0.0},{\"trace_id\":6,\"row_id\":107,\"x\":510,\"y\":0.0},{\"trace_id\":6,\"row_id\":108,\"x\":600,\"y\":0.0},{\"trace_id\":6,\"row_id\":109,\"x\":600,\"y\":2.246913578e-44},{\"trace_id\":6,\"row_id\":110,\"x\":530,\"y\":2.246913578e-44},{\"trace_id\":6,\"row_id\":111,\"x\":530,\"y\":1.123456789e-43},{\"trace_id\":6,\"row_id\":112,\"x\":510,\"y\":1.123456789e-43},{\"trace_id\":6,\"row_id\":113,\"x\":510,\"y\":0.0}]}]'"
      ]
     },
     "execution_count": 16,
     "metadata": {},
     "output_type": "execute_result"
    }
   ],
   "source": [
    "# Specify field column names\n",
    "fieldcols = ['trace_id','x','y']\n",
    "\n",
    "# Build a dict for each group as a Series named `fields`\n",
    "'''\n",
    "res = (all_letters.groupby(['data_id'])\n",
    " .apply(lambda s: [{'trace_id' : traceid,\n",
    "                    'x': valuex,\n",
    "                    'y': valuey}\n",
    "                   for field in fieldcols\n",
    "                   for traceid in s['trace_id'].values\n",
    "                   for valuex in s['x'].values\n",
    "                   for valuey in s['y'].values]\n",
    "                  )\n",
    ").rename('data_values')\n",
    "'''\n",
    "\n",
    "## working\n",
    "# Group by 'data_id' and build the list of dictionaries\n",
    "res = (all_letters.groupby('data_id')\n",
    "       .apply(lambda s: s.apply(lambda row: {'trace_id': row['trace_id'],'row_id': row['row_id'], 'x': row['x'], 'y': row['y']}, axis=1).tolist())\n",
    "       .rename('data_values')\n",
    "       .reset_index())\n",
    "\n",
    "\n",
    "''' the following changes the order of the output\n",
    "res_lol = (all_letters.groupby('data_id')\n",
    "       .apply(lambda s: [{row['trace_id'], row['x'], row['y']} for _, row in s.iterrows()])\n",
    "       .rename('data_values')\n",
    "       .reset_index())\n",
    "'''\n",
    "\n",
    "'''\n",
    "res = (all_letters.groupby('data_id')\n",
    "       .apply(lambda s: {str(row['trace_id']): {'x': str(row['x']), 'y': str(row['y'])} for _, row in s.iterrows()}, axis=1).tolist()\n",
    "       .rename('data_values')\n",
    "       .reset_index())\n",
    "\n",
    "'''\n",
    "'''\n",
    "\n",
    "res = (all_letters.groupby('data_id')\n",
    "       .apply(lambda s: {row['trace_id']: {'x': row['x'], 'y': row['y']} for _, row in s.iterrows()})\n",
    "       .rename('data_values')\n",
    "       .reset_index())\n",
    "'''\n",
    "# Convert to JSON\n",
    "json_result = res.to_json(orient='records')\n",
    "\n",
    "\n",
    "# Convert Series to DataFrame and then to_json\n",
    "#res = res.reset_index().to_json(orient='records')\n",
    "\n",
    "json_result"
   ]
  },
  {
   "cell_type": "code",
   "execution_count": 17,
   "metadata": {
    "id": "K6p0gyDlxVIY"
   },
   "outputs": [
    {
     "data": {
      "text/html": [
       "<div>\n",
       "<style scoped>\n",
       "    .dataframe tbody tr th:only-of-type {\n",
       "        vertical-align: middle;\n",
       "    }\n",
       "\n",
       "    .dataframe tbody tr th {\n",
       "        vertical-align: top;\n",
       "    }\n",
       "\n",
       "    .dataframe thead th {\n",
       "        text-align: right;\n",
       "    }\n",
       "</style>\n",
       "<table border=\"1\" class=\"dataframe\">\n",
       "  <thead>\n",
       "    <tr style=\"text-align: right;\">\n",
       "      <th></th>\n",
       "      <th>trace_id</th>\n",
       "      <th>row_id</th>\n",
       "      <th>x</th>\n",
       "      <th>y</th>\n",
       "      <th>data_id</th>\n",
       "    </tr>\n",
       "  </thead>\n",
       "  <tbody>\n",
       "    <tr>\n",
       "      <th>0</th>\n",
       "      <td>1</td>\n",
       "      <td>0</td>\n",
       "      <td>30</td>\n",
       "      <td>0.000000e+00</td>\n",
       "      <td>1000</td>\n",
       "    </tr>\n",
       "    <tr>\n",
       "      <th>1</th>\n",
       "      <td>1</td>\n",
       "      <td>1</td>\n",
       "      <td>65</td>\n",
       "      <td>5.617284e-45</td>\n",
       "      <td>1000</td>\n",
       "    </tr>\n",
       "    <tr>\n",
       "      <th>2</th>\n",
       "      <td>1</td>\n",
       "      <td>2</td>\n",
       "      <td>90</td>\n",
       "      <td>2.808642e-44</td>\n",
       "      <td>1000</td>\n",
       "    </tr>\n",
       "    <tr>\n",
       "      <th>3</th>\n",
       "      <td>1</td>\n",
       "      <td>3</td>\n",
       "      <td>100</td>\n",
       "      <td>5.617284e-44</td>\n",
       "      <td>1000</td>\n",
       "    </tr>\n",
       "    <tr>\n",
       "      <th>4</th>\n",
       "      <td>1</td>\n",
       "      <td>4</td>\n",
       "      <td>90</td>\n",
       "      <td>8.425926e-44</td>\n",
       "      <td>1000</td>\n",
       "    </tr>\n",
       "  </tbody>\n",
       "</table>\n",
       "</div>"
      ],
      "text/plain": [
       "   trace_id  row_id    x             y  data_id\n",
       "0         1       0   30  0.000000e+00     1000\n",
       "1         1       1   65  5.617284e-45     1000\n",
       "2         1       2   90  2.808642e-44     1000\n",
       "3         1       3  100  5.617284e-44     1000\n",
       "4         1       4   90  8.425926e-44     1000"
      ]
     },
     "execution_count": 17,
     "metadata": {},
     "output_type": "execute_result"
    }
   ],
   "source": [
    "#json_df = pd.read_json(json_result, orient='records')\n",
    "#json_df\n",
    "data = json.loads(json_result)\n",
    "#df = pd.json_normalize(data['data_values'])\n",
    "#df = pd.DataFrame(data=data)\n",
    "data[0]['data_id']\n",
    "len_data = len(data)\n",
    "\n",
    "data_df = pd.DataFrame(data=[])\n",
    "\n",
    "for i in range(0,len_data):\n",
    "    data_id = data[i]['data_id']\n",
    "    data_values = data[i]['data_values']\n",
    "    new_df = pd.DataFrame(data=data_values)\n",
    "    new_df['data_id'] = data_id\n",
    "    data_df = pd.concat([data_df,new_df])\n",
    "data_df.head(5)"
   ]
  },
  {
   "cell_type": "markdown",
   "metadata": {
    "id": "dpkp3LqZu9Ag"
   },
   "source": []
  },
  {
   "cell_type": "code",
   "execution_count": 18,
   "metadata": {
    "id": "FsccyR9b3o4W"
   },
   "outputs": [
    {
     "data": {
      "text/html": [
       "<div>\n",
       "<style scoped>\n",
       "    .dataframe tbody tr th:only-of-type {\n",
       "        vertical-align: middle;\n",
       "    }\n",
       "\n",
       "    .dataframe tbody tr th {\n",
       "        vertical-align: top;\n",
       "    }\n",
       "\n",
       "    .dataframe thead th {\n",
       "        text-align: right;\n",
       "    }\n",
       "</style>\n",
       "<table border=\"1\" class=\"dataframe\">\n",
       "  <thead>\n",
       "    <tr style=\"text-align: right;\">\n",
       "      <th></th>\n",
       "      <th>trace_id</th>\n",
       "      <th>row_id</th>\n",
       "      <th>x</th>\n",
       "      <th>y</th>\n",
       "      <th>data_id</th>\n",
       "    </tr>\n",
       "  </thead>\n",
       "  <tbody>\n",
       "    <tr>\n",
       "      <th>0</th>\n",
       "      <td>1</td>\n",
       "      <td>0</td>\n",
       "      <td>30</td>\n",
       "      <td>0.000000e+00</td>\n",
       "      <td>1000</td>\n",
       "    </tr>\n",
       "    <tr>\n",
       "      <th>1</th>\n",
       "      <td>1</td>\n",
       "      <td>1</td>\n",
       "      <td>65</td>\n",
       "      <td>5.617284e-45</td>\n",
       "      <td>1000</td>\n",
       "    </tr>\n",
       "    <tr>\n",
       "      <th>2</th>\n",
       "      <td>1</td>\n",
       "      <td>2</td>\n",
       "      <td>90</td>\n",
       "      <td>2.808642e-44</td>\n",
       "      <td>1000</td>\n",
       "    </tr>\n",
       "    <tr>\n",
       "      <th>3</th>\n",
       "      <td>1</td>\n",
       "      <td>3</td>\n",
       "      <td>100</td>\n",
       "      <td>5.617284e-44</td>\n",
       "      <td>1000</td>\n",
       "    </tr>\n",
       "    <tr>\n",
       "      <th>4</th>\n",
       "      <td>1</td>\n",
       "      <td>4</td>\n",
       "      <td>90</td>\n",
       "      <td>8.425926e-44</td>\n",
       "      <td>1000</td>\n",
       "    </tr>\n",
       "  </tbody>\n",
       "</table>\n",
       "</div>"
      ],
      "text/plain": [
       "   trace_id  row_id    x             y  data_id\n",
       "0         1       0   30  0.000000e+00     1000\n",
       "1         1       1   65  5.617284e-45     1000\n",
       "2         1       2   90  2.808642e-44     1000\n",
       "3         1       3  100  5.617284e-44     1000\n",
       "4         1       4   90  8.425926e-44     1000"
      ]
     },
     "execution_count": 18,
     "metadata": {},
     "output_type": "execute_result"
    }
   ],
   "source": [
    "chart_data = data_df[data_df['data_id']==1000]\n",
    "chart_data.head(5)"
   ]
  },
  {
   "cell_type": "code",
   "execution_count": 19,
   "metadata": {
    "id": "K1h5zdjVufEO"
   },
   "outputs": [
    {
     "data": {
      "text/plain": [
       "[1, 2, 3, 4, 5, 6]"
      ]
     },
     "execution_count": 19,
     "metadata": {},
     "output_type": "execute_result"
    }
   ],
   "source": [
    "def create_letter_color(letter_in):\n",
    "    color_out = 'blue'\n",
    "    if letter_in == 'd':\n",
    "        color_out = 'red'\n",
    "    elif letter_in == 'm':\n",
    "        color_out = 'orange'\n",
    "    elif letter_in == 't':\n",
    "        color_out = 'yellow'\n",
    "    elif letter_in == 'o1':\n",
    "        color_out = 'green'\n",
    "    elif letter_in == 'o2':\n",
    "        color_out = 'blue'\n",
    "    elif letter_in == 'l':\n",
    "        color_out = 'indigo'\n",
    "    return color_out\n",
    "\n",
    "def create_trace_color(number_in):\n",
    "    color_out = 'blue'\n",
    "    if number_in == 1:\n",
    "        color_out = 'red'\n",
    "    elif number_in == 2:\n",
    "        color_out = 'orange'\n",
    "    elif number_in == 3:\n",
    "        color_out = 'yellow'\n",
    "    elif number_in == 4:\n",
    "        color_out = 'green'\n",
    "    elif number_in == 5:\n",
    "        color_out = 'blue'\n",
    "    elif number_in == 6:\n",
    "        color_out = 'indigo'\n",
    "    return color_out\n",
    "\n",
    "#dmdf['color'] = dmdf.apply(lambda row: create_letter_color(row['trace_name']),axis=1)\n",
    "trace_ids = data_df['trace_id'].unique().tolist()\n",
    "trace_ids"
   ]
  },
  {
   "cell_type": "code",
   "execution_count": 20,
   "metadata": {
    "id": "8gvqcumJ5EK1"
   },
   "outputs": [
    {
     "data": {
      "text/plain": [
       "array([1, 2, 3, 4, 5, 6])"
      ]
     },
     "execution_count": 20,
     "metadata": {},
     "output_type": "execute_result"
    }
   ],
   "source": [
    "trace_id = chart_data['trace_id'].unique()\n",
    "trace_id"
   ]
  },
  {
   "cell_type": "code",
   "execution_count": 21,
   "metadata": {
    "id": "YSYk_nYW11sp"
   },
   "outputs": [
    {
     "name": "stdout",
     "output_type": "stream",
     "text": [
      "1\n",
      "2\n",
      "3\n",
      "4\n",
      "5\n",
      "6\n"
     ]
    },
    {
     "data": {
      "text/plain": [
       "'plot.html'"
      ]
     },
     "execution_count": 21,
     "metadata": {},
     "output_type": "execute_result"
    }
   ],
   "source": [
    "fig = go.Figure()\n",
    "\n",
    "for t in trace_ids:\n",
    "      trace_data = chart_data[chart_data['trace_id']==t]\n",
    "      trace_id = t\n",
    "      trace_color = create_trace_color(t)\n",
    "      print(trace_id)\n",
    "      fig.add_trace(go.Scatter(\n",
    "          x=trace_data['x'], y=trace_data['y'],\n",
    "          name=str(t),\n",
    "          mode='lines',\n",
    "          line_color=trace_color\n",
    "      ))\n",
    "#fig.update_yaxes(type=\"linear\")\n",
    "fig.update_yaxes(type=\"log\")\n",
    "#fig.show(renderer=\"svg\")\n",
    "plotly.offline.plot(fig, filename = 'plot.html')"
   ]
  },
  {
   "cell_type": "code",
   "execution_count": null,
   "metadata": {},
   "outputs": [],
   "source": []
  },
  {
   "cell_type": "code",
   "execution_count": 22,
   "metadata": {
    "id": "TQX_GY5VvHMD"
   },
   "outputs": [
    {
     "data": {
      "text/plain": [
       "'[{\"data_subject\":\"data_about\",\"plot_id\":1001.0,\"series_id\":1001.0,\"data_label\":\"dmtool\",\"data_reference\":\"dmtool\",\"data_comment\":\"Experiment DMTOOL\",\"x_units\":\"GeV\",\"y_units\":\"cm^2\",\"x_rescale\":\"1\",\"y_rescale\":\"1\",\"year\":\"2023\",\"experiment\":\"Experiment DMTOOL\",\"spin_dependency\":\"SD\",\"result_type\":\"Th\",\"official\":\"1\",\"open\":\"1\",\"greatest_hit\":\"0\",\"public\":\"1\",\"created_at\":\"2024-07-08 11:07:00\",\"updated_at\":\"2024-07-08 11:07:00\",\"archived_at\":\"2024-07-08 11:07:00\",\"creator_id\":0.0,\"rating\":0.0,\"date_of_announcement\":\"2024-07-08 11:07:00\",\"date_official\":\"2024-07-08 11:07:00\",\"date_of_run_start\":\"2024-07-08 11:07:00\",\"date_of_run_end\":\"2024-07-08 11:07:00\",\"default_color\":\"black\",\"default_style\":\"dotted\"}]'"
      ]
     },
     "execution_count": 22,
     "metadata": {},
     "output_type": "execute_result"
    }
   ],
   "source": [
    "# 'Experiment DMTOOL'\n",
    "index_id = 1\n",
    "data_about = pd.DataFrame(data=[], columns=[])\n",
    "data_about.loc[index_id,'data_subject'] = 'data_about'\n",
    "##data_about.loc[index_id,'limit_id'] = 1001\n",
    "##data_about.loc[index_id,'data_id'] = 1001\n",
    "data_about.loc[index_id,'plot_id'] = 1001\n",
    "data_about.loc[index_id,'series_id'] = 1001\n",
    "data_about.loc[index_id,'data_label'] = 'dmtool'\n",
    "data_about.loc[index_id,'data_reference'] = 'dmtool'\n",
    "data_about.loc[index_id,'data_comment'] = 'Experiment DMTOOL'\n",
    "data_about.loc[index_id,'x_units'] = 'GeV'\n",
    "data_about.loc[index_id,'y_units'] =  'cm^2'\n",
    "data_about.loc[index_id,'x_rescale'] = '1'\n",
    "data_about.loc[index_id,'y_rescale'] = '1'\n",
    "data_about.loc[index_id,'year'] = '2023'\n",
    "data_about.loc[index_id,'experiment'] = 'Experiment DMTOOL'\n",
    "data_about.loc[index_id,'spin_dependency'] = 'SD' # SI\n",
    "data_about.loc[index_id,'result_type'] = 'Th' ## Proj, Exp\n",
    "data_about.loc[index_id,'official'] = '1' ## 0\n",
    "data_about.loc[index_id,'open'] = '1' ## 0\n",
    "data_about.loc[index_id,'greatest_hit'] = '0' ## 1\n",
    "data_about.loc[index_id,'public'] = '1' ## 0\n",
    "data_about.loc[index_id,'created_at'] = '2024-07-08 11:07:00'\n",
    "data_about.loc[index_id,'updated_at'] = '2024-07-08 11:07:00'\n",
    "data_about.loc[index_id,'archived_at'] = '2024-07-08 11:07:00'\n",
    "data_about.loc[index_id,'creator_id'] = 0\n",
    "data_about.loc[index_id,'rating'] = 0\n",
    "data_about.loc[index_id,'date_of_announcement'] = '2024-07-08 11:07:00'\n",
    "data_about.loc[index_id,'date_official'] = '2024-07-08 11:07:00'\n",
    "data_about.loc[index_id,'date_of_run_start'] = '2024-07-08 11:07:00'\n",
    "data_about.loc[index_id,'date_of_run_end'] = '2024-07-08 11:07:00'\n",
    "\n",
    "data_about.loc[index_id,'default_color'] = 'black' ## 0\n",
    "data_about.loc[index_id,'default_style'] = 'dotted' ## 0\n",
    "\n",
    "#just_this = data_about.loc[index_id]\n",
    "\n",
    "data_about_json = data_about.to_json(orient=\"records\")\n",
    "data_about_json\n",
    "#value_var_list = list(limits_metadata_df.columns)\n",
    "#value_var_list.remove('limit_id')"
   ]
  },
  {
   "cell_type": "code",
   "execution_count": 23,
   "metadata": {
    "id": "Yu8txxtmx-2m"
   },
   "outputs": [],
   "source": [
    "#data_about"
   ]
  },
  {
   "cell_type": "code",
   "execution_count": 24,
   "metadata": {
    "id": "kQelNreIyOrg"
   },
   "outputs": [],
   "source": [
    "# 'Experiment D'\n",
    "index_id = 2\n",
    "\n",
    "data_about = pd.DataFrame(data=[], columns=[])\n",
    "data_about.loc[index_id,'data_subject'] = 'data_about'\n",
    "data_about.loc[index_id,'limit_id'] = 1002\n",
    "data_about.loc[index_id,'data_id'] = 1002\n",
    "data_about.loc[index_id,'plot_id'] = 1002\n",
    "data_about.loc[index_id,'series_id'] = 1002\n",
    "data_about.loc[index_id,'data_label'] = 'd'\n",
    "data_about.loc[index_id,'data_reference'] = 'd'\n",
    "data_about.loc[index_id,'data_comment'] = 'Experiment D'\n",
    "data_about.loc[index_id,'x_units'] = 'GeV'\n",
    "data_about.loc[index_id,'y_units'] =  'cm^2'\n",
    "data_about.loc[index_id,'x_rescale'] = '1'\n",
    "data_about.loc[index_id,'y_rescale'] = '1'\n",
    "data_about.loc[index_id,'year'] = '2023'\n",
    "data_about.loc[index_id,'experiment'] = 'Experiment D'\n",
    "data_about.loc[index_id,'spin_dependency'] = 'SD' # SI\n",
    "data_about.loc[index_id,'result_type'] = 'Th' ## Proj, Exp\n",
    "data_about.loc[index_id,'official'] = '1' ## 0\n",
    "data_about.loc[index_id,'open'] = '1' ## 0\n",
    "data_about.loc[index_id,'greatest_hit'] = '0' ## 1\n",
    "data_about.loc[index_id,'public'] = '1' ## 0\n",
    "data_about.loc[index_id,'created_at'] = '2024-07-08 11:07:00'\n",
    "data_about.loc[index_id,'updated_at'] = '2024-07-08 11:07:00'\n",
    "data_about.loc[index_id,'archived_at'] = '2024-07-08 11:07:00'\n",
    "data_about.loc[index_id,'creator_id'] = 0\n",
    "data_about.loc[index_id,'rating'] = 0\n",
    "data_about.loc[index_id,'date_of_announcement'] = '2024-07-08 11:07:00'\n",
    "data_about.loc[index_id,'date_official'] = '2024-07-08 11:07:00'\n",
    "data_about.loc[index_id,'date_of_run_start'] = '2024-07-08 11:07:00'\n",
    "data_about.loc[index_id,'date_of_run_end'] = '2024-07-08 11:07:00'\n",
    "\n",
    "data_about.loc[index_id,'default_color'] = 'black' ## 0\n",
    "data_about.loc[index_id,'default_style'] = 'dotted' ## 0\n",
    "\n",
    "\n",
    "#value_var_list = list(limits_metadata_df.columns)\n",
    "#value_var_list.remove('limit_id')"
   ]
  },
  {
   "cell_type": "code",
   "execution_count": 25,
   "metadata": {
    "id": "Xzp5oO0jxvqY"
   },
   "outputs": [],
   "source": [
    "# 'Experiment M'\n",
    "index_id = 3\n",
    "\n",
    "data_about.loc[index_id,'data_subject'] = 'data_about'\n",
    "data_about.loc[index_id,'limit_id'] = 1003\n",
    "data_about.loc[index_id,'data_id'] = 1003\n",
    "data_about.loc[index_id,'plot_id'] = 1003\n",
    "data_about.loc[index_id,'series_id'] = 1003\n",
    "data_about.loc[index_id,'data_label'] = 'm'\n",
    "data_about.loc[index_id,'data_reference'] = 'm'\n",
    "data_about.loc[index_id,'data_comment'] = 'Experiment M'\n",
    "data_about.loc[index_id,'x_units'] = 'GeV'\n",
    "data_about.loc[index_id,'y_units'] =  'cm^2'\n",
    "data_about.loc[index_id,'x_rescale'] = '1'\n",
    "data_about.loc[index_id,'y_rescale'] = '1'\n",
    "data_about.loc[index_id,'year'] = '2023'\n",
    "data_about.loc[index_id,'experiment'] = 'Experiment M'\n",
    "data_about.loc[index_id,'spin_dependency'] = 'SD' # SI\n",
    "data_about.loc[index_id,'result_type'] = 'Th' ## Proj, Exp\n",
    "data_about.loc[index_id,'official'] = '1' ## 0\n",
    "data_about.loc[index_id,'open'] = '1' ## 0\n",
    "data_about.loc[index_id,'greatest_hit'] = '0' ## 1\n",
    "data_about.loc[index_id,'public'] = '1' ## 0\n",
    "data_about.loc[index_id,'created_at'] = '2024-07-08 11:07:00'\n",
    "data_about.loc[index_id,'updated_at'] = '2024-07-08 11:07:00'\n",
    "data_about.loc[index_id,'archived_at'] = '2024-07-08 11:07:00'\n",
    "data_about.loc[index_id,'creator_id'] = 0\n",
    "data_about.loc[index_id,'rating'] = 0\n",
    "data_about.loc[index_id,'date_of_announcement'] = '2024-07-08 11:07:00'\n",
    "data_about.loc[index_id,'date_official'] = '2024-07-08 11:07:00'\n",
    "data_about.loc[index_id,'date_of_run_start'] = '2024-07-08 11:07:00'\n",
    "data_about.loc[index_id,'date_of_run_end'] = '2024-07-08 11:07:00'\n",
    "\n",
    "data_about.loc[index_id,'default_color'] = 'black' ## 0\n",
    "data_about.loc[index_id,'default_style'] = 'dotted' ## 0\n",
    "\n",
    "\n",
    "#value_var_list = list(limits_metadata_df.columns)\n",
    "#value_var_list.remove('limit_id')"
   ]
  },
  {
   "cell_type": "code",
   "execution_count": 26,
   "metadata": {
    "id": "Ea1ph4qwyANK"
   },
   "outputs": [],
   "source": [
    "# 'Experiment T'\n",
    "index_id = 4\n",
    "\n",
    "data_about.loc[index_id,'data_subject'] = 'data_about'\n",
    "data_about.loc[index_id,'limit_id'] = 1004\n",
    "data_about.loc[index_id,'data_id'] = 1004\n",
    "data_about.loc[index_id,'plot_id'] = 1004\n",
    "data_about.loc[index_id,'series_id'] = 1004\n",
    "data_about.loc[index_id,'data_label'] = 't'\n",
    "data_about.loc[index_id,'data_reference'] = 't'\n",
    "data_about.loc[index_id,'data_comment'] = 'Experiment T'\n",
    "data_about.loc[index_id,'x_units'] = 'GeV'\n",
    "data_about.loc[index_id,'y_units'] =  'cm^2'\n",
    "data_about.loc[index_id,'x_rescale'] = '1'\n",
    "data_about.loc[index_id,'y_rescale'] = '1'\n",
    "data_about.loc[index_id,'year'] = '2023'\n",
    "data_about.loc[index_id,'experiment'] = 'Experiment T'\n",
    "data_about.loc[index_id,'spin_dependency'] = 'SD' # SI\n",
    "data_about.loc[index_id,'result_type'] = 'Th' ## Proj, Exp\n",
    "data_about.loc[index_id,'official'] = '1' ## 0\n",
    "data_about.loc[index_id,'open'] = '1' ## 0\n",
    "data_about.loc[index_id,'greatest_hit'] = '0' ## 1\n",
    "data_about.loc[index_id,'public'] = '1' ## 0\n",
    "data_about.loc[index_id,'created_at'] = '2024-07-08 11:07:00'\n",
    "data_about.loc[index_id,'updated_at'] = '2024-07-08 11:07:00'\n",
    "data_about.loc[index_id,'archived_at'] = '2024-07-08 11:07:00'\n",
    "data_about.loc[index_id,'creator_id'] = 0\n",
    "data_about.loc[index_id,'rating'] = 0\n",
    "data_about.loc[index_id,'date_of_announcement'] = '2024-07-08 11:07:00'\n",
    "data_about.loc[index_id,'date_official'] = '2024-07-08 11:07:00'\n",
    "data_about.loc[index_id,'date_of_run_start'] = '2024-07-08 11:07:00'\n",
    "data_about.loc[index_id,'date_of_run_end'] = '2024-07-08 11:07:00'\n",
    "\n",
    "data_about.loc[index_id,'default_color'] = 'black' ## 0\n",
    "data_about.loc[index_id,'default_style'] = 'dotted' ## 0"
   ]
  },
  {
   "cell_type": "code",
   "execution_count": 27,
   "metadata": {
    "id": "hbtSb5xwyLaa"
   },
   "outputs": [],
   "source": [
    "# 'Experiment O1'\n",
    "index_id = 5\n",
    "\n",
    "data_about.loc[index_id,'data_subject'] = 'data_about'\n",
    "data_about.loc[index_id,'limit_id'] = 1005\n",
    "data_about.loc[index_id,'data_id'] = 1005\n",
    "data_about.loc[index_id,'plot_id'] = 1005\n",
    "data_about.loc[index_id,'series_id'] = 1005\n",
    "data_about.loc[index_id,'data_label'] = 'o1'\n",
    "data_about.loc[index_id,'data_reference'] = 'o1'\n",
    "data_about.loc[index_id,'data_comment'] = 'Experiment O1'\n",
    "data_about.loc[index_id,'x_units'] = 'GeV'\n",
    "data_about.loc[index_id,'y_units'] =  'cm^2'\n",
    "data_about.loc[index_id,'x_rescale'] = '1'\n",
    "data_about.loc[index_id,'y_rescale'] = '1'\n",
    "data_about.loc[index_id,'year'] = '2023'\n",
    "data_about.loc[index_id,'experiment'] = 'Experiment O1'\n",
    "data_about.loc[index_id,'spin_dependency'] = 'SD' # SI\n",
    "data_about.loc[index_id,'result_type'] = 'Th' ## Proj, Exp\n",
    "data_about.loc[index_id,'official'] = '1' ## 0\n",
    "data_about.loc[index_id,'open'] = '1' ## 0\n",
    "data_about.loc[index_id,'greatest_hit'] = '0' ## 1\n",
    "data_about.loc[index_id,'public'] = '1' ## 0\n",
    "data_about.loc[index_id,'created_at'] = '2024-07-08 11:07:00'\n",
    "data_about.loc[index_id,'updated_at'] = '2024-07-08 11:07:00'\n",
    "data_about.loc[index_id,'archived_at'] = '2024-07-08 11:07:00'\n",
    "data_about.loc[index_id,'creator_id'] = 0\n",
    "data_about.loc[index_id,'rating'] = 0\n",
    "data_about.loc[index_id,'date_of_announcement'] = '2024-07-08 11:07:00'\n",
    "data_about.loc[index_id,'date_official'] = '2024-07-08 11:07:00'\n",
    "data_about.loc[index_id,'date_of_run_start'] = '2024-07-08 11:07:00'\n",
    "data_about.loc[index_id,'date_of_run_end'] = '2024-07-08 11:07:00'\n",
    "\n",
    "data_about.loc[index_id,'default_color'] = 'black' ## 0\n",
    "data_about.loc[index_id,'default_style'] = 'dotted' ## 0"
   ]
  },
  {
   "cell_type": "code",
   "execution_count": 28,
   "metadata": {
    "id": "VaNv8Q9byqr9"
   },
   "outputs": [],
   "source": [
    "# 'Experiment O2'\n",
    "index_id = 6\n",
    "\n",
    "data_about.loc[index_id,'data_subject'] = 'data_about'\n",
    "data_about.loc[index_id,'limit_id'] = 1006\n",
    "data_about.loc[index_id,'data_id'] = 1006\n",
    "data_about.loc[index_id,'plot_id'] = 1006\n",
    "data_about.loc[index_id,'series_id'] = 1006\n",
    "data_about.loc[index_id,'data_label'] = 'o2'\n",
    "data_about.loc[index_id,'data_reference'] = 'o2'\n",
    "data_about.loc[index_id,'data_comment'] = 'Experiment O2'\n",
    "data_about.loc[index_id,'x_units'] = 'GeV'\n",
    "data_about.loc[index_id,'y_units'] =  'cm^2'\n",
    "data_about.loc[index_id,'x_rescale'] = '1'\n",
    "data_about.loc[index_id,'y_rescale'] = '1'\n",
    "data_about.loc[index_id,'year'] = '2023'\n",
    "data_about.loc[index_id,'experiment'] = 'Experiment O2'\n",
    "data_about.loc[index_id,'spin_dependency'] = 'SD' # SI\n",
    "data_about.loc[index_id,'result_type'] = 'Th' ## Proj, Exp\n",
    "data_about.loc[index_id,'official'] = '1' ## 0\n",
    "data_about.loc[index_id,'open'] = '1' ## 0\n",
    "data_about.loc[index_id,'greatest_hit'] = '0' ## 1\n",
    "data_about.loc[index_id,'public'] = '1' ## 0\n",
    "data_about.loc[index_id,'created_at'] = '2024-07-08 11:07:00'\n",
    "data_about.loc[index_id,'updated_at'] = '2024-07-08 11:07:00'\n",
    "data_about.loc[index_id,'archived_at'] = '2024-07-08 11:07:00'\n",
    "data_about.loc[index_id,'creator_id'] = 0\n",
    "data_about.loc[index_id,'rating'] = 0\n",
    "data_about.loc[index_id,'date_of_announcement'] = '2024-07-08 11:07:00'\n",
    "data_about.loc[index_id,'date_official'] = '2024-07-08 11:07:00'\n",
    "data_about.loc[index_id,'date_of_run_start'] = '2024-07-08 11:07:00'\n",
    "data_about.loc[index_id,'date_of_run_end'] = '2024-07-08 11:07:00'\n",
    "\n",
    "data_about.loc[index_id,'default_color'] = 'black' ## 0\n",
    "data_about.loc[index_id,'default_style'] = 'dotted' ## 0"
   ]
  },
  {
   "cell_type": "code",
   "execution_count": 29,
   "metadata": {
    "id": "YtjqkdFIzGSj"
   },
   "outputs": [],
   "source": [
    "# 'Experiment L'\n",
    "index_id = 7\n",
    "\n",
    "data_about.loc[index_id,'data_subject'] = 'data_about'\n",
    "data_about.loc[index_id,'limit_id'] = 1007\n",
    "data_about.loc[index_id,'data_id'] = 1007\n",
    "data_about.loc[index_id,'plot_id'] = 1007\n",
    "data_about.loc[index_id,'series_id'] = 1007\n",
    "data_about.loc[index_id,'data_label'] = 'l'\n",
    "data_about.loc[index_id,'data_reference'] = 'l'\n",
    "data_about.loc[index_id,'data_comment'] = 'Experiment L'\n",
    "data_about.loc[index_id,'x_units'] = 'GeV'\n",
    "data_about.loc[index_id,'y_units'] =  'cm^2'\n",
    "data_about.loc[index_id,'x_rescale'] = '1'\n",
    "data_about.loc[index_id,'y_rescale'] = '1'\n",
    "data_about.loc[index_id,'year'] = '2023'\n",
    "data_about.loc[index_id,'experiment'] = 'Experiment L'\n",
    "data_about.loc[index_id,'spin_dependency'] = 'SD' # SI\n",
    "data_about.loc[index_id,'result_type'] = 'Th' ## Proj, Exp\n",
    "data_about.loc[index_id,'official'] = '1' ## 0\n",
    "data_about.loc[index_id,'open'] = '1' ## 0\n",
    "data_about.loc[index_id,'greatest_hit'] = '0' ## 1\n",
    "data_about.loc[index_id,'public'] = '1' ## 0\n",
    "data_about.loc[index_id,'created_at'] = '2024-07-08 11:07:00'\n",
    "data_about.loc[index_id,'updated_at'] = '2024-07-08 11:07:00'\n",
    "data_about.loc[index_id,'archived_at'] = '2024-07-08 11:07:00'\n",
    "data_about.loc[index_id,'creator_id'] = 0\n",
    "data_about.loc[index_id,'rating'] = 0\n",
    "data_about.loc[index_id,'date_of_announcement'] = '2024-07-08 11:07:00'\n",
    "data_about.loc[index_id,'date_official'] = '2024-07-08 11:07:00'\n",
    "data_about.loc[index_id,'date_of_run_start'] = '2024-07-08 11:07:00'\n",
    "data_about.loc[index_id,'date_of_run_end'] = '2024-07-08 11:07:00'\n",
    "\n",
    "data_about.loc[index_id,'default_color'] = 'black' ## 0\n",
    "data_about.loc[index_id,'default_style'] = 'dotted' ## 0"
   ]
  }
 ],
 "metadata": {
  "colab": {
   "provenance": []
  },
  "kernelspec": {
   "display_name": "Python 3 (ipykernel)",
   "language": "python",
   "name": "python3"
  },
  "language_info": {
   "codemirror_mode": {
    "name": "ipython",
    "version": 3
   },
   "file_extension": ".py",
   "mimetype": "text/x-python",
   "name": "python",
   "nbconvert_exporter": "python",
   "pygments_lexer": "ipython3",
   "version": "3.12.4"
  }
 },
 "nbformat": 4,
 "nbformat_minor": 4
}
