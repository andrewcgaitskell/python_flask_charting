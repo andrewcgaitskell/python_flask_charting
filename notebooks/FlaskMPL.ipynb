{
 "cells": [
  {
   "cell_type": "code",
   "execution_count": 1,
   "id": "0471a32b-a6c8-4a9b-a1f8-8afb32080309",
   "metadata": {},
   "outputs": [],
   "source": [
    "#!pip install -i https://test.pypi.org/simple/ brown-edu-dmtools==0.1.10"
   ]
  },
  {
   "cell_type": "code",
   "execution_count": 2,
   "id": "b1e2724a-ca2e-4059-866a-651372edcabc",
   "metadata": {},
   "outputs": [],
   "source": [
    "import matplotlib.pyplot as plt\n",
    "import numpy as np\n",
    "import ast\n",
    "## plt.rcParams['text.usetex'] = True\n",
    "\n",
    "# for legend\n",
    "import matplotlib.pyplot as plt\n",
    "import matplotlib.patches as mpatches\n",
    "import matplotlib.lines as mlines\n"
   ]
  },
  {
   "cell_type": "code",
   "execution_count": 3,
   "id": "63acbeb1-0018-4cf1-91f3-3b7d3b18bfd0",
   "metadata": {},
   "outputs": [],
   "source": [
    "from brown_edu_dmtools.dmtools_client_package.dmtools_client_module import DMToolsClient\n",
    "from brown_edu_dmtools.dmtools_client_package.dmtools_client_module import DMToolTestData\n",
    "from brown_edu_dmtools.dmtools_client_package.dmtools_client_module import PlotTrace"
   ]
  },
  {
   "cell_type": "code",
   "execution_count": 4,
   "id": "0df1539d-119d-45f2-a89c-39d2d72fdd6b",
   "metadata": {},
   "outputs": [],
   "source": [
    "## get api key and user id from local .env file\n",
    "from dotenv import load_dotenv\n",
    "import os\n",
    "from os import environ, path\n",
    "#BASE_DIR = path.abspath(path.dirname(__file__))\n",
    "BASE_DIR = os.getcwd()\n",
    "#load_dotenv(path.join(BASE_DIR, \".env\"))\n",
    "load_dotenv(path.join(BASE_DIR, \".env\"), override=True)\n",
    "MY_DMTOOLS_APIKEY = environ.get(\"MY_DMTOOLS_APIKEY\")\n",
    "MY_DMTOOLS_USERID = environ.get(\"MY_DMTOOLS_USERID\")\n",
    "Client = DMToolsClient(MY_DMTOOLS_USERID, MY_DMTOOLS_APIKEY)\n",
    "#Client.request_header"
   ]
  },
  {
   "cell_type": "code",
   "execution_count": 5,
   "id": "c55abd15-c62a-4338-b6c4-a4388d4bbd94",
   "metadata": {},
   "outputs": [],
   "source": [
    "pt = PlotTrace()"
   ]
  },
  {
   "cell_type": "code",
   "execution_count": 6,
   "id": "b5df1b62-a47a-4a30-8bdb-3fbc9ed77097",
   "metadata": {},
   "outputs": [
    {
     "name": "stdout",
     "output_type": "stream",
     "text": [
      "query function encoded query string >>>  name_like%3DCDMS\n",
      "query_url >>>>>>>>>>> https://dmtools.brown.edu/dmtool/fastapi_data/open/data/0.0/plot/query/?query_in=name_like%3DCDMS\n"
     ]
    }
   ],
   "source": [
    "import json\n",
    "# Define the query parameters as a dictionary\n",
    "params = {\n",
    "    'name_like' : \"CDMS\"\n",
    "}\n",
    "\n",
    "params_as_string = json.dumps(params)\n",
    "\n",
    "# Pass the encoded query to the API client\n",
    "r = Client.query(subject='plot', query_criteria=params_as_string)\n",
    "#r"
   ]
  },
  {
   "cell_type": "code",
   "execution_count": 7,
   "id": "3e8a3770-4125-4e97-b832-1f1e2bcf00a9",
   "metadata": {},
   "outputs": [
    {
     "data": {
      "text/plain": [
       "[{'id': 1066,\n",
       "  'subject': 'data_display',\n",
       "  'name': None,\n",
       "  'old_id': None,\n",
       "  'old_plot_id': 775,\n",
       "  'limit_id': 406,\n",
       "  'plot_id': 489,\n",
       "  'color': 'k',\n",
       "  'style': 'line',\n",
       "  'data_id': 349,\n",
       "  'updated_at': '2011-10-07T17:35:05',\n",
       "  'open': None}]"
      ]
     },
     "execution_count": 7,
     "metadata": {},
     "output_type": "execute_result"
    }
   ],
   "source": [
    "plot_id = 489\n",
    "datasets = Client.read_by_plot_id(subject='data_display',id=plot_id)\n",
    "datasets"
   ]
  },
  {
   "cell_type": "code",
   "execution_count": 8,
   "id": "7061f4f0-bd0e-419d-85eb-ac5042359235",
   "metadata": {},
   "outputs": [
    {
     "name": "stdout",
     "output_type": "stream",
     "text": [
      "lines {'color': 'red', 'width': 1, 'dash': 'solid'} {'symbol': 'x'} rgba(0,255,255,0.05) 1 toself\n"
     ]
    }
   ],
   "source": [
    "pt = PlotTrace()\n",
    "#pt.set_values(trace_color, trace_style)\n",
    "print(pt.mode,pt.line,pt.marker,pt.fillcolor,pt.opacity,pt.fill)"
   ]
  },
  {
   "cell_type": "code",
   "execution_count": 9,
   "id": "d4426255-8e0d-46f5-bf93-9224338186f0",
   "metadata": {},
   "outputs": [
    {
     "data": {
      "image/png": "[encoded data removed]",
      "text/plain": [
       "<Figure size 600x600 with 1 Axes>"
      ]
     },
     "metadata": {},
     "output_type": "display_data"
    }
   ],
   "source": [
    "def get_mpl_plot(plot_id_in, width_in=600, height_in=600):\n",
    "    datasets = Client.read_by_plot_id(subject='data_display',id=plot_id_in)\n",
    "    px = 1/plt.rcParams['figure.dpi']  # pixel in inches\n",
    "    plt.figure(figsize=(width_in*px, height_in*px))\n",
    "    for d in datasets:\n",
    "        data_id = d['data_id']\n",
    "        trace_data = Client.read(id=data_id)\n",
    "        trace_name = trace_data[0]['data_label']\n",
    "        string_data = trace_data[0]['data']\n",
    "        style = d['style']\n",
    "        color = d['color']\n",
    "        pt.set_values(color, style)\n",
    "        list_data = ast.literal_eval(string_data)\n",
    "        trace_count = len(list_data)\n",
    "        trace_names_int = list(range(0,trace_count))\n",
    "        trace_names_int\n",
    "        trace_names = []\n",
    "        for t in trace_names_int:\n",
    "            trace_names.append(str(t))\n",
    "            x = [item[0] for item in list_data[t]]\n",
    "            y = [item[1] for item in list_data[t]]\n",
    "            \n",
    "            if pt.fill != 'toself':\n",
    "                plt.plot(x, y, label=trace_name)\n",
    "            else:\n",
    "                plt.fill_between(x, y, alpha=0.3, label=trace_name)\n",
    "    \n",
    "    # Add labels and title\n",
    "    # plt.xlabel('Masses')\n",
    "    # plt.ylabel('Cross Sections')\n",
    "    \n",
    "    \n",
    "    #plt.title('Two Lists of Lists Plotted')\n",
    "    plt.xscale('log')\n",
    "    plt.yscale('log')\n",
    "\n",
    "    return plt\n",
    "\n",
    "my_plot = Client.get_mpl_plot(plot_id)\n",
    "\n",
    "my_plot.show()    "
   ]
  },
  {
   "cell_type": "code",
   "execution_count": 10,
   "id": "959de7d7-e422-4971-9247-a865565b3079",
   "metadata": {},
   "outputs": [
    {
     "data": {
      "image/png": "[encoded data removed]",
      "text/plain": [
       "<Figure size 600x200 with 1 Axes>"
      ]
     },
     "metadata": {},
     "output_type": "display_data"
    }
   ],
   "source": [
    "def get_mpl_legend(plot_id_in, width_in=600, height_in=200):\n",
    "    datasets = Client.read_by_plot_id(subject='data_display',id=plot_id_in)\n",
    "    px = 1/plt.rcParams['figure.dpi']  # pixel in inches\n",
    "    plt.figure(figsize=(width_in*px, height_in*px))\n",
    "    handles = []\n",
    "    \n",
    "    for d in datasets:\n",
    "        data_id = d['data_id']\n",
    "        trace_data = Client.read(id=data_id)\n",
    "        trace_name = trace_data[0]['data_label']\n",
    "        string_data = trace_data[0]['data']\n",
    "        style = d['style']\n",
    "        color = d['color']\n",
    "        pt.set_values(color, style)\n",
    "        list_data = ast.literal_eval(string_data)\n",
    "        trace_count = len(list_data)\n",
    "        trace_names_int = list(range(0,trace_count))\n",
    "        trace_names_int\n",
    "        trace_names = []\n",
    "        for t in trace_names_int:\n",
    "            trace_names.append(str(t))\n",
    "            x = [item[0] for item in list_data[t]]\n",
    "            y = [item[1] for item in list_data[t]]\n",
    "            \n",
    "            if pt.fill != 'toself':\n",
    "                append_this = mlines.Line2D([], [], color=color, label=trace_name, linestyle='-')\n",
    "            else:\n",
    "                append_this = mpatches.Patch(color=color, alpha=0.3, hatch='/', label=trace_name)\n",
    "            handles.append(append_this)\n",
    "    \n",
    "    #line1_handle = mlines.Line2D([], [], color='blue', label='Sine Wave', linestyle='-')\n",
    "    #line2_handle = mlines.Line2D([], [], color='green', label='Cosine Wave', linestyle='-')\n",
    "    \n",
    "    #fill1_handle = mpatches.Patch(color='blue', alpha=0.3, hatch='/', label='Sine Fill')\n",
    "    #fill2_handle = mpatches.Patch(color='green', alpha=0.3, hatch='\\\\', label='Cosine Fill')\n",
    "    \n",
    "    # Combine handles and labels\n",
    "    #handles = [line1_handle, line2_handle, fill1_handle, fill2_handle]\n",
    "    labels = [handle.get_label() for handle in handles]\n",
    "    \n",
    "    # Create a new figure just for the legend\n",
    "    fig, ax = plt.subplots(figsize=(2, 2))\n",
    "    ax.legend(handles=handles, labels=labels, loc='center')\n",
    "    ax.axis('off')  # Hide the axes\n",
    "    return plt\n",
    "\n",
    "my_legend = Client.get_mpl_legend(plot_id)\n",
    "\n",
    "my_legend.show()    "
   ]
  },
  {
   "cell_type": "code",
   "execution_count": 11,
   "id": "b0890fa2-b756-4367-b42d-be1700fcee86",
   "metadata": {},
   "outputs": [
    {
     "ename": "NameError",
     "evalue": "name 'trace_count' is not defined",
     "output_type": "error",
     "traceback": [
      "\u001b[0;31m---------------------------------------------------------------------------\u001b[0m",
      "\u001b[0;31mNameError\u001b[0m                                 Traceback (most recent call last)",
      "Cell \u001b[0;32mIn[11], line 3\u001b[0m\n\u001b[1;32m      1\u001b[0m \u001b[38;5;66;03m# Now you can plot these two lists using matplotlib\u001b[39;00m\n\u001b[0;32m----> 3\u001b[0m \u001b[38;5;28;01mfor\u001b[39;00m tl \u001b[38;5;129;01min\u001b[39;00m \u001b[38;5;28mrange\u001b[39m(\u001b[38;5;241m0\u001b[39m,\u001b[43mtrace_count\u001b[49m):\n\u001b[1;32m      4\u001b[0m     \u001b[38;5;66;03m# Plot the first list as a line\u001b[39;00m\n\u001b[1;32m      5\u001b[0m     \u001b[38;5;66;03m#list_data[tl]\u001b[39;00m\n\u001b[1;32m      6\u001b[0m \u001b[38;5;250m    \u001b[39m\u001b[38;5;124;03m'''\u001b[39;00m\n\u001b[1;32m      7\u001b[0m \u001b[38;5;124;03m    numpy_array = np.array(list_data[tl])\u001b[39;00m\n\u001b[1;32m      8\u001b[0m \u001b[38;5;124;03m    x = numpy_array[:, 0]\u001b[39;00m\n\u001b[1;32m      9\u001b[0m \u001b[38;5;124;03m    y = numpy_array[:, 1]\u001b[39;00m\n\u001b[1;32m     10\u001b[0m \u001b[38;5;124;03m    '''\u001b[39;00m\n\u001b[1;32m     11\u001b[0m     x \u001b[38;5;241m=\u001b[39m [item[\u001b[38;5;241m0\u001b[39m] \u001b[38;5;28;01mfor\u001b[39;00m item \u001b[38;5;129;01min\u001b[39;00m list_data[tl]]\n",
      "\u001b[0;31mNameError\u001b[0m: name 'trace_count' is not defined"
     ]
    }
   ],
   "source": [
    "# Now you can plot these two lists using matplotlib\n",
    "\n",
    "for tl in range(0,trace_count):\n",
    "    # Plot the first list as a line\n",
    "    #list_data[tl]\n",
    "    '''\n",
    "    numpy_array = np.array(list_data[tl])\n",
    "    x = numpy_array[:, 0]\n",
    "    y = numpy_array[:, 1]\n",
    "    '''\n",
    "    x = [item[0] for item in list_data[tl]]\n",
    "    y = [item[1] for item in list_data[tl]]\n",
    "    \n",
    "    if pt.fill != 'toself':\n",
    "        plt.plot(x, y, label=str(tl))\n",
    "    else:\n",
    "        plt.fill_between(x, y, alpha=0.3, label='Area Trace')\n",
    "\n",
    "\n",
    "# Add labels and title\n",
    "plt.xlabel('Masses')\n",
    "plt.ylabel('Cross Sections')\n",
    "\n",
    "\n",
    "#plt.title('Two Lists of Lists Plotted')\n",
    "plt.xscale('log')\n",
    "plt.yscale('log')\n",
    "\n",
    "# Show legend\n",
    "#plt.legend()\n",
    "\n",
    "# Show plot\n",
    "plt.show()"
   ]
  },
  {
   "cell_type": "code",
   "execution_count": null,
   "id": "eaa69234-39f6-40b9-b779-d76dbac73271",
   "metadata": {},
   "outputs": [],
   "source": [
    "'''\n",
    "\n",
    "# Sample data\n",
    "x = np.linspace(0, 10, 100)\n",
    "y = np.sin(x)\n",
    "\n",
    "# Create the plot\n",
    "plt.plot(x, y)\n",
    "\n",
    "# Add a title and labels using mathtext\n",
    "plt.title(r'This is a $\\sin(x)$ function', fontsize=16)  # LaTeX-like syntax\n",
    "plt.xlabel(r'$\\theta$ (radians)', fontsize=14)           # LaTeX-like syntax\n",
    "plt.ylabel(r'$\\sin(\\theta)$', fontsize=14)               # LaTeX-like syntax\n",
    "\n",
    "# Display the plot\n",
    "plt.show()\n",
    "'''"
   ]
  },
  {
   "cell_type": "code",
   "execution_count": null,
   "id": "5b90559f-760b-4f1c-92ba-a2603b47c21e",
   "metadata": {},
   "outputs": [],
   "source": [
    "\n",
    "\n",
    "# Example data structure: list of list of lists\n",
    "# Assuming the structure: [[[x_values_line], [y_values_line]], [[x_values_area], [y1_values_area], [y2_values_area]]]\n",
    "traces = [\n",
    "    [[1, 2, 3], [2, 3, 4]],        # Line trace\n",
    "    [[1, 2, 3], [4, 5, 6], [1, 1, 1]],  # Area trace (with y2 values)\n",
    "    [[1, 2, 3], [6, 7, 8]]         # Line trace\n",
    "]\n",
    "\n",
    "# Create a plot\n",
    "plt.figure(figsize=(10, 6))\n",
    "\n",
    "# Iterate over traces and plot accordingly\n",
    "for trace in traces:\n",
    "    x_values = trace[0]\n",
    "    y_values = trace[1]\n",
    "    \n",
    "    if len(trace) == 2:  # Line trace\n",
    "        plt.plot(x_values, y_values, label='Line Trace')\n",
    "    elif len(trace) == 3:  # Area trace\n",
    "        y2_values = trace[2]\n",
    "        plt.fill_between(x_values, y_values, y2_values, alpha=0.3, label='Area Trace')\n",
    "\n",
    "# Add labels and title\n",
    "plt.xlabel('X-axis')\n",
    "plt.ylabel('Y-axis')\n",
    "plt.title('Multiple Traces: Lines and Areas')\n",
    "\n",
    "# Show legend\n",
    "plt.legend()\n",
    "\n",
    "# Show plot\n",
    "plt.show()"
   ]
  },
  {
   "cell_type": "code",
   "execution_count": null,
   "id": "31d81610-970e-425e-8327-7272cb0ef74b",
   "metadata": {},
   "outputs": [],
   "source": []
  },
  {
   "cell_type": "code",
   "execution_count": null,
   "id": "3a89d47a-928a-4eb2-a5bd-57708b28c592",
   "metadata": {},
   "outputs": [],
   "source": []
  }
 ],
 "metadata": {
  "kernelspec": {
   "display_name": "Python 3 (ipykernel)",
   "language": "python",
   "name": "python3"
  },
  "language_info": {
   "codemirror_mode": {
    "name": "ipython",
    "version": 3
   },
   "file_extension": ".py",
   "mimetype": "text/x-python",
   "name": "python",
   "nbconvert_exporter": "python",
   "pygments_lexer": "ipython3",
   "version": "3.12.4"
  }
 },
 "nbformat": 4,
 "nbformat_minor": 5
}
