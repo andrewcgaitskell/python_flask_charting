{
 "cells": [
  {
   "cell_type": "code",
   "execution_count": 1,
   "id": "40d3eecb-3dba-453f-b61f-7ddf467b96e4",
   "metadata": {},
   "outputs": [],
   "source": [
    "from jinja2 import Environment, FileSystemLoader, PackageLoader, select_autoescape, Template\n",
    "from dmtools_jinja2_macros import env"
   ]
  },
  {
   "cell_type": "code",
   "execution_count": 3,
   "id": "2526acac-14e5-475a-93a8-1ee1ddfdc3b6",
   "metadata": {},
   "outputs": [],
   "source": [
    "template = env.get_template('matplotlib.html')\n",
    "rendered_template = template.render()"
   ]
  },
  {
   "cell_type": "code",
   "execution_count": 4,
   "id": "1235fcb9-d881-42e9-b1b5-f192326ec887",
   "metadata": {},
   "outputs": [],
   "source": [
    "from IPython.core.display import HTML"
   ]
  },
  {
   "cell_type": "code",
   "execution_count": 5,
   "id": "4d718ea3-cf8d-48d9-912d-0367f172a595",
   "metadata": {},
   "outputs": [
    {
     "data": {
      "text/html": [
       "<!DOCTYPE html>\n",
       "<html lang=\"en\">\n",
       "<head>\n",
       "    <meta charset=\"UTF-8\">\n",
       "    <meta name=\"viewport\" content=\"width=device-width, initial-scale=1.0\">\n",
       "    <title>Flask Matplotlib Example</title>\n",
       "     <link href=\"https://cdn.jsdelivr.net/npm/bootstrap@5.3.2/dist/css/bootstrap.min.css\" rel=\"stylesheet\" integrity=\"sha384-T3c6CoIi6uLrA9TneNEoa7RxnatzjcDSCmG1MXxSR1GAsXEV/Dwwykc2MPK8M2HN\" crossorigin=\"anonymous\">\n",
       "\n",
       "    <style>\n",
       "        body {\n",
       "            background-color: #f8f1e7;\n",
       "            color: #3e2723;\n",
       "        }\n",
       "        .navbar, .footer {\n",
       "            background-color: #795548;\n",
       "            color: white;\n",
       "        }\n",
       "    </style>\n",
       "    \n",
       "</head>\n",
       "<body>\n",
       "    <header>\n",
       "    \n",
       "\n",
       "\n",
       "<button class=\"btn btn-primary\" type=\"button\" data-bs-toggle=\"offcanvas\" data-bs-target=\"#offcanvasRight\" aria-controls=\"offcanvasRight\">\n",
       "   <svg xmlns=\"http://www.w3.org/2000/svg\" viewBox=\"0 0 200 200\" width=\"80\" height=\"80\">\n",
       "  <!-- Background -->\n",
       "  <rect width=\"100%\" height=\"100%\" fill=\"#8B4513\"/> <!-- Brown background -->\n",
       "\n",
       "  <!-- Atom nucleus -->\n",
       "  <circle cx=\"100\" cy=\"100\" r=\"10\" fill=\"#555\"/>\n",
       "\n",
       "  <!-- Electron orbits -->\n",
       "  <ellipse cx=\"100\" cy=\"100\" rx=\"60\" ry=\"30\" stroke=\"#555\" stroke-width=\"2\" fill=\"none\"/>\n",
       "  <ellipse cx=\"100\" cy=\"100\" rx=\"30\" ry=\"60\" stroke=\"#555\" stroke-width=\"2\" fill=\"none\"/>\n",
       "  <ellipse cx=\"100\" cy=\"100\" rx=\"60\" ry=\"60\" stroke=\"#555\" stroke-width=\"2\" fill=\"none\"/>\n",
       "\n",
       "  <!-- Electrons -->\n",
       "  <circle cx=\"160\" cy=\"100\" r=\"5\" fill=\"#555\"/>\n",
       "  <circle cx=\"100\" cy=\"160\" r=\"5\" fill=\"#555\"/>\n",
       "  <circle cx=\"40\" cy=\"100\" r=\"5\" fill=\"#555\"/>\n",
       "  <circle cx=\"100\" cy=\"40\" r=\"5\" fill=\"#555\"/>\n",
       "\n",
       "  <!-- Line chart -->\n",
       "  <polyline points=\"30,150 60,110 90,130 120,90 150,70 180,50\" stroke=\"#0080FF\" stroke-width=\"4\" fill=\"none\"/>\n",
       "\n",
       "  <!-- Text in the center -->\n",
       "  <text x=\"100\" y=\"105\" font-family=\"Arial\" font-size=\"28\" fill=\"#FFFF00\" text-anchor=\"middle\" font-weight=\"bold\">\n",
       "    DMTOOLS\n",
       "  </text>\n",
       "</svg></button>\n",
       "\n",
       "<div class=\"offcanvas offcanvas-end\" tabindex=\"-1\" id=\"offcanvasRight\" aria-labelledby=\"offcanvasRightLabel\">\n",
       "  <div class=\"offcanvas-header\">\n",
       "    <h5 class=\"offcanvas-title\" id=\"offcanvasRightLabel\">Offcanvas right</h5>\n",
       "    <button type=\"button\" class=\"btn-close\" data-bs-dismiss=\"offcanvas\" aria-label=\"Close\"></button>\n",
       "  </div>\n",
       "  <div class=\"offcanvas-body\">\n",
       "    <ul class=\"navbar-nav\">\n",
       "                <li class=\"nav-item\">\n",
       "                    <a class=\"nav-link\" href=\"/\">Home</a>\n",
       "                </li>\n",
       "                <li class=\"nav-item\">\n",
       "                    <a class=\"nav-link\" href=\"/charts\">Charts</a>\n",
       "                </li>\n",
       "                <li class=\"nav-item\">\n",
       "                    <a class=\"nav-link\" href=\"/tables\">Tables</a>\n",
       "                </li>\n",
       "                <li class=\"nav-item\">\n",
       "                    <a class=\"nav-link\" href=\"/plotly\">Plotly</a>\n",
       "                </li>\n",
       "                <li class=\"nav-item\">\n",
       "                    <a class=\"nav-link\" href=\"/matplotlib\">Matplotlib</a>\n",
       "                </li>\n",
       "                 <li class=\"nav-item\">\n",
       "                     <a class=\"nav-link\" href=\"/matplotlib_chart_legend\">Matplotlib Chart Legend</a>\n",
       "                </li>\n",
       "                <li class=\"nav-item\">\n",
       "                     <a class=\"nav-link\" href=\"/matplotlib_legend\">Matplotlib Legend</a>\n",
       "                </li>\n",
       "                <li class=\"nav-item\">\n",
       "                     <a class=\"nav-link\" href=\"/dynamic_form\">Dynamic Form</a>\n",
       "                </li>\n",
       "            </ul>\n",
       "  </div>\n",
       "</div>\n",
       "</header>\n",
       "\n",
       "    <div class=\"container mt-4\">\n",
       "        \n",
       "     <h1>Matplotlib Chart in Flask</h1>\n",
       "    <div>\n",
       "        <!-- Embed the plot by referencing the /matplotlib.png route -->\n",
       "        <img src=\"/matplotlib_png?\" alt=\"Line Chart\">\n",
       "    </div>\n",
       "\n",
       "    </div>\n",
       "    <footer class=\"footer mt-auto py-3 text-center\">\n",
       "    <div class=\"container\">\n",
       "        <span>© 2024 DMTools</span>\n",
       "      <li><a href=\"mailto:andrew@gaitskell.com\">Contact</a></li>\n",
       "    </div>\n",
       "</footer>\n",
       "   \n",
       "   <script src=\"https://cdn.jsdelivr.net/npm/bootstrap@5.3.2/dist/js/bootstrap.bundle.min.js\" integrity=\"sha384-C6RzsynM9kWDrMNeT87bh95OGNyZPhcTNXj1NW7RuBCsyN/o0jlpcV8Qyq46cDfL\" crossorigin=\"anonymous\"></script>\n",
       "   <script src=\"https://cdn.plot.ly/plotly-2.34.0.min.js\" charset=\"utf-8\"></script>\n",
       "</body>\n",
       "</html>"
      ],
      "text/plain": [
       "<IPython.core.display.HTML object>"
      ]
     },
     "metadata": {},
     "output_type": "display_data"
    }
   ],
   "source": [
    "display(HTML(rendered_template))"
   ]
  },
  {
   "cell_type": "code",
   "execution_count": null,
   "id": "7fa07a69-d21f-4ffb-a9a4-039c431c28b0",
   "metadata": {},
   "outputs": [],
   "source": []
  }
 ],
 "metadata": {
  "kernelspec": {
   "display_name": "Python 3 (ipykernel)",
   "language": "python",
   "name": "python3"
  },
  "language_info": {
   "codemirror_mode": {
    "name": "ipython",
    "version": 3
   },
   "file_extension": ".py",
   "mimetype": "text/x-python",
   "name": "python",
   "nbconvert_exporter": "python",
   "pygments_lexer": "ipython3",
   "version": "3.12.4"
  }
 },
 "nbformat": 4,
 "nbformat_minor": 5
}
