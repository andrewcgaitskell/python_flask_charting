{
 "cells": [
  {
   "cell_type": "code",
   "execution_count": 1,
   "id": "e391f4dc-7080-40aa-b3d9-8dfa707ea862",
   "metadata": {},
   "outputs": [],
   "source": [
    "from brown_edu_dmtools.dmtools_client_package.dmtools_client_module import DMToolsClient"
   ]
  },
  {
   "cell_type": "code",
   "execution_count": 2,
   "id": "33276cad-ef56-4e94-84ec-9d8198efb419",
   "metadata": {},
   "outputs": [],
   "source": [
    "## get api key and user id from local .env file\n",
    "from dotenv import load_dotenv\n",
    "import os\n",
    "from os import environ, path\n",
    "#BASE_DIR = path.abspath(path.dirname(__file__))\n",
    "BASE_DIR = os.getcwd()\n",
    "load_dotenv(path.join(BASE_DIR, \".env\"))\n",
    "MY_DMTOOLS_APIKEY = environ.get(\"MY_DMTOOLS_APIKEY\")\n",
    "MY_DMTOOLS_USERID = environ.get(\"MY_DMTOOLS_USERID\")\n",
    "Client = DMToolsClient(MY_DMTOOLS_USERID, MY_DMTOOLS_APIKEY)"
   ]
  },
  {
   "cell_type": "code",
   "execution_count": 5,
   "id": "440c821e-cf58-44cb-bd24-543c240b1071",
   "metadata": {},
   "outputs": [],
   "source": [
    "r = Client.read(subject='graph')"
   ]
  },
  {
   "cell_type": "code",
   "execution_count": 8,
   "id": "beb6cb72-7a6e-43d6-b335-c2c3b0e1d3b5",
   "metadata": {},
   "outputs": [],
   "source": [
    "new_graph = {'parent_id': -1,\n",
    "  'open': 0,\n",
    "  'value': 'experiment',\n",
    "  'created_at': '2024-08-27T15:27:27',\n",
    "  'archived_at': '1980-01-01T00:00:00',\n",
    "  'key': 'experiment',\n",
    "  'subject': 'graph',\n",
    "  'value_datatype': 'text',\n",
    "  'updated_at': '2024-08-27T15:27:27'}"
   ]
  },
  {
   "cell_type": "code",
   "execution_count": 10,
   "id": "8c5ad03a-b603-472b-8c13-df9c250f0516",
   "metadata": {},
   "outputs": [],
   "source": [
    "r = Client.create(subject='graph',data=new_graph)"
   ]
  },
  {
   "cell_type": "code",
   "execution_count": null,
   "id": "4ba41121-3f13-43a9-88d7-3c47ec11ab8b",
   "metadata": {},
   "outputs": [],
   "source": []
  }
 ],
 "metadata": {
  "kernelspec": {
   "display_name": "Python 3 (ipykernel)",
   "language": "python",
   "name": "python3"
  },
  "language_info": {
   "codemirror_mode": {
    "name": "ipython",
    "version": 3
   },
   "file_extension": ".py",
   "mimetype": "text/x-python",
   "name": "python",
   "nbconvert_exporter": "python",
   "pygments_lexer": "ipython3",
   "version": "3.12.4"
  }
 },
 "nbformat": 4,
 "nbformat_minor": 5
}
